{
 "cells": [
  {
   "cell_type": "code",
   "execution_count": null,
   "metadata": {},
   "outputs": [],
   "source": [
    "import os\n",
    "import glob\n",
    "from datetime import datetime"
   ]
  },
  {
   "cell_type": "code",
   "execution_count": null,
   "metadata": {},
   "outputs": [],
   "source": [
    "def list_files(directory):\n",
    "    \"\"\"List all files in the given directory.\"\"\"\n",
    "    return [file for file in os.listdir(directory) if os.path.isfile(os.path.join(directory, file))]"
   ]
  },
  {
   "cell_type": "code",
   "execution_count": null,
   "metadata": {},
   "outputs": [],
   "source": [
    "def categorize_files(directory):\n",
    "    \"\"\"Categorize files by their types.\"\"\"\n",
    "    file_types = {\n",
    "        'txt': [],\n",
    "        'csv': [],\n",
    "        'json': [],\n",
    "        'jpg': [],\n",
    "        'png': [],\n",
    "        'log': []\n",
    "    }\n",
    "    \n",
    "    for file in list_files(directory):\n",
    "        if file.endswith('.txt'):\n",
    "            file_types['txt'].append(file)\n",
    "        elif file.endswith('.csv'):\n",
    "            file_types['csv'].append(file)\n",
    "        elif file.endswith('.json'):\n",
    "            file_types['json'].append(file)\n",
    "        elif file.endswith('.jpg'):\n",
    "            file_types['jpg'].append(file)\n",
    "        elif file.endswith('.png'):\n",
    "            file_types['png'].append(file)\n",
    "        elif file.endswith('.log'):\n",
    "            file_types['log'].append(file)\n",
    "    \n",
    "    return file_types"
   ]
  },
  {
   "cell_type": "code",
   "execution_count": null,
   "metadata": {},
   "outputs": [],
   "source": [
    "def create_and_move_files(directory, file_types):\n",
    "    \"\"\"Create subdirectories and move files to the respective directories.\"\"\"\n",
    "    organized_dir = os.path.join(directory, 'organized_data')\n",
    "    \n",
    "    if not os.path.exists(organized_dir):\n",
    "        os.makedirs(organized_dir)\n",
    "    \n",
    "    # Create subdirectories for each file type\n",
    "    for file_type in file_types:\n",
    "        file_type_dir = os.path.join(organized_dir, f\"{file_type}_files\")\n",
    "        if not os.path.exists(file_type_dir):\n",
    "            os.makedirs(file_type_dir)\n",
    "        \n",
    "        for file in file_types[file_type]:\n",
    "            src_path = os.path.join(directory, file)\n",
    "            dest_path = os.path.join(file_type_dir, file)\n",
    "            \n",
    "            # Handle log files with timestamp\n",
    "            if file_type == 'log':\n",
    "                timestamp = datetime.now().strftime(\"%Y%m%d_%H%M%S\")\n",
    "                filename, ext = os.path.splitext(file)\n",
    "                file = f\"{filename}_{timestamp}{ext}\"\n",
    "                dest_path = os.path.join(file_type_dir, file)\n",
    "            \n",
    "            # Move the file using os.rename\n",
    "            os.rename(src_path, dest_path)"
   ]
  },
  {
   "cell_type": "code",
   "execution_count": null,
   "metadata": {},
   "outputs": [],
   "source": [
    "\n",
    "def generate_summary(directory, file_types):\n",
    "    \"\"\"Generate a summary report.\"\"\"\n",
    "    summary_path = os.path.join(directory, 'summary.txt')\n",
    "    with open(summary_path, 'w') as summary_file:\n",
    "        total_files_moved = 0\n",
    "        summary_file.write(\"Summary Report\\n\")\n",
    "        summary_file.write(\"=\" * 50 + \"\\n\")\n",
    "        \n",
    "        for file_type, files in file_types.items():\n",
    "            num_files = len(files)\n",
    "            total_files_moved += num_files\n",
    "            sample_file = files[0] if files else \"N/A\"\n",
    "            summary_file.write(f\"Number of {file_type.upper()} files: {num_files}\\n\")\n",
    "            summary_file.write(f\"Sample file: {sample_file}\\n\")\n",
    "            summary_file.write(\"-\" * 50 + \"\\n\")\n",
    "        \n",
    "        summary_file.write(f\"Total number of files moved: {total_files_moved}\\n\")\n",
    "        summary_file.write(\"=\" * 50 + \"\\n\")"
   ]
  },
  {
   "cell_type": "code",
   "execution_count": null,
   "metadata": {},
   "outputs": [],
   "source": [
    "         \n",
    "def main():\n",
    "    directory = 'W-7_data_repository'  # Change this to the actual data repository path\n",
    "    \n",
    "    # Step 1: List all files and print the total count\n",
    "    files = list_files(directory)\n",
    "    print(f\"Total number of files in the directory: {len(files)}\")\n",
    "    \n",
    "    # Step 2: Categorize files by type\n",
    "    file_types = categorize_files(directory)\n",
    "     \n",
    "    # Print count of each file type\n",
    "    for file_type, files in file_types.items():\n",
    "        print(f\"Number of {file_type.upper()} files: {len(files)}\")\n",
    "    \n",
    "    # Step 3 & 4: Organize files into folders and handle missing directories\n",
    "    create_and_move_files(directory, file_types)\n",
    "    \n",
    "    # Step 5: Generate a summary report\n",
    "    generate_summary(directory, file_types)\n",
    "\n",
    "if __name__ == \"__main__\":\n",
    "    main()"
   ]
  }
 ],
 "metadata": {
  "kernelspec": {
   "display_name": "Python 3",
   "language": "python",
   "name": "python3"
  },
  "language_info": {
   "codemirror_mode": {
    "name": "ipython",
    "version": 3
   },
   "file_extension": ".py",
   "mimetype": "text/x-python",
   "name": "python",
   "nbconvert_exporter": "python",
   "pygments_lexer": "ipython3",
   "version": "3.12.3"
  }
 },
 "nbformat": 4,
 "nbformat_minor": 2
}
