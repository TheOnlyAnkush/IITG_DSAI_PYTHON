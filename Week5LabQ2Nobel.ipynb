{
 "cells": [
  {
   "cell_type": "code",
   "execution_count": 14,
   "metadata": {},
   "outputs": [],
   "source": [
    "import requests\n",
    "\n",
    "# Define the URL for the CSV file\n",
    "csv_url = \"https://raw.githubusercontent.com/prasertcbs/basic-dataset/refs/heads/master/Nobel%20Laureattes.csv\""
   ]
  },
  {
   "cell_type": "code",
   "execution_count": 15,
   "metadata": {},
   "outputs": [],
   "source": [
    "# Function to download and save the CSV file\n",
    "def download_csv(url):\n",
    "    response = requests.get(url)\n",
    "    if response.status_code == 200:\n",
    "        with open('nobel_laureates.csv', 'wb') as file:\n",
    "            file.write(response.content)\n",
    "        print(\"CSV downloaded successfully.\")\n",
    "    else:\n",
    "        print(f\"Failed to download CSV: {response.status_code}\")"
   ]
  },
  {
   "cell_type": "code",
   "execution_count": 16,
   "metadata": {},
   "outputs": [
    {
     "name": "stdout",
     "output_type": "stream",
     "text": [
      "CSV downloaded successfully.\n"
     ]
    }
   ],
   "source": [
    "# Main workflow\n",
    "download_csv(csv_url)\n",
    "\n",
    "country_counts = {}\n",
    "# Open & Read the CSV file and process each row\n",
    "try:\n",
    "    with open(\"nobel_laureates.csv\", \"r\", encoding=\"utf-8\") as csvfile:\n",
    "                \n",
    "        # Skip the header row\n",
    "        next(csvfile)  \n",
    "        for line in csvfile:\n",
    "            try:\n",
    "                fields = line.strip().split(\",\")\n",
    "\n",
    "                if len(fields) > 1:  # Ensure there are enough fields\n",
    "                    birth_country = fields[10]  # Assuming the second column is Birth Country\n",
    "            \n",
    "                    if birth_country in country_counts:\n",
    "                        country_counts[birth_country] += 1\n",
    "                    else:\n",
    "                        country_counts[birth_country] = 1\n",
    "            except IndexError:\n",
    "                    print(f\"Skipping line due to malformed data: {line}\")\n",
    "except FileNotFoundError:\n",
    "    print(\"Error: The CSV file was not found.\")\n",
    "except Exception as e:\n",
    "    print(f\"An error occurred while processing the CSV file: {e}\")"
   ]
  },
  {
   "cell_type": "code",
   "execution_count": 17,
   "metadata": {},
   "outputs": [
    {
     "name": "stdout",
     "output_type": "stream",
     "text": [
      "Top 20 Countries with Most Nobel Prizes:\n",
      "United Kingdom: 69\n",
      " NY\": 56\n",
      "Germany: 54\n",
      "France: 42\n",
      ": 26\n",
      "Sweden: 24\n",
      " IL\": 20\n",
      "Japan: 20\n",
      " MA\": 19\n",
      "Netherlands: 15\n",
      "Russia: 15\n",
      "Switzerland: 14\n",
      "Austria: 13\n",
      " CA\": 12\n",
      "Italy: 11\n",
      " PA\": 10\n",
      "Australia: 9\n",
      "Norway: 9\n",
      " WI\": 9\n",
      "China: 9\n"
     ]
    }
   ],
   "source": [
    "# Step 3: Create lists for countries and their corresponding prize counts\n",
    "countries = list(country_counts.keys())\n",
    "counts = list(country_counts.values())\n",
    "\n",
    "# Step 4: Find the Top 20 Countries with Most Nobel Prizes using Bubble Sort\n",
    "for i in range(len(counts)):\n",
    "    for j in range(0, len(counts) - i - 1):\n",
    "        if counts[j] < counts[j + 1]:  # Sort in descending order\n",
    "            counts[j], counts[j + 1] = counts[j + 1], counts[j]\n",
    "            countries[j], countries[j + 1] = countries[j + 1], countries[j]\n",
    "\n",
    "# Step 5: Print the top 20 countries along with their respective prize counts\n",
    "print(\"Top 20 Countries with Most Nobel Prizes:\")\n",
    "for i in range(20):\n",
    "    print(f\"{countries[i]}: {counts[i]}\")\n"
   ]
  }
 ],
 "metadata": {
  "kernelspec": {
   "display_name": "Python 3",
   "language": "python",
   "name": "python3"
  },
  "language_info": {
   "codemirror_mode": {
    "name": "ipython",
    "version": 3
   },
   "file_extension": ".py",
   "mimetype": "text/x-python",
   "name": "python",
   "nbconvert_exporter": "python",
   "pygments_lexer": "ipython3",
   "version": "3.12.3"
  }
 },
 "nbformat": 4,
 "nbformat_minor": 2
}
