{
 "cells": [
  {
   "cell_type": "code",
   "execution_count": 1,
   "metadata": {},
   "outputs": [
    {
     "name": "stdout",
     "output_type": "stream",
     "text": [
      "{'LATIN': 291, 'CYRILLIC': 59, 'TELUGU': 13, 'HEBREW': 64, 'DEVANAGARI': 31, 'ARABIC': 73, 'BENGALI': 17}\n"
     ]
    }
   ],
   "source": [
    "import unicodedata\n",
    "\n",
    "def detect_script(char):\n",
    "    \"\"\"Identify script of a character\"\"\"\n",
    "    try:\n",
    "        return unicodedata.name(char).split()[0]\n",
    "    except ValueError:\n",
    "        return \"UNKNOWN\"\n",
    "\n",
    "def analyze_text_file(filename):\n",
    "    \"\"\"Analyze script distribution in a text file\"\"\"\n",
    "    with open(filename, \"r\", encoding=\"utf-8\") as f:\n",
    "        text = f.read()\n",
    "\n",
    "    script_counts = {}\n",
    "    for char in text:\n",
    "        if char.isalpha():\n",
    "            script = detect_script(char)\n",
    "            script_counts[script] = script_counts.get(script, 0) + 1\n",
    "\n",
    "    return script_counts\n",
    "\n",
    "# Example usage\n",
    "file_results = analyze_text_file(\"Week6file.txt\")\n",
    "print(file_results)"
   ]
  }
 ],
 "metadata": {
  "kernelspec": {
   "display_name": "Python 3",
   "language": "python",
   "name": "python3"
  },
  "language_info": {
   "codemirror_mode": {
    "name": "ipython",
    "version": 3
   },
   "file_extension": ".py",
   "mimetype": "text/x-python",
   "name": "python",
   "nbconvert_exporter": "python",
   "pygments_lexer": "ipython3",
   "version": "3.12.3"
  }
 },
 "nbformat": 4,
 "nbformat_minor": 2
}
