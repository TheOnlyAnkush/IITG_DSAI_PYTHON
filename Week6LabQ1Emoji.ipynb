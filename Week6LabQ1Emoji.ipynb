{
 "cells": [
  {
   "cell_type": "code",
   "execution_count": 76,
   "metadata": {},
   "outputs": [],
   "source": [
    "emoji_dict = {\n",
    "    \"happy\": \"😊\",\n",
    "    \"love\" : \"❤️\",\n",
    "    \"fire\" : \"🔥\",\n",
    "    \"sad\" : \"😢\",\n",
    "    \"cool\" : \"😎\",\n",
    "    \"food\" : \"🍔\",\n",
    "    \"dog\" : \"🐶\",\n",
    "    \"Cat\" : \"🐱\",\n",
    "}\n",
    "\n",
    "mood_emojis = {\n",
    "    \"happy\": [\"😇\", \"🎉\", \"🥳\", \"😊\", \"🌞\"],\n",
    "    \"sad\" : [\"😢\", \"😭\", \"😞\", \"😔\", \"😩\"],\n",
    "    \"excited\" : [\"😃\", \"😄\", \"😅\", \"😂\", \"😆\"],\n",
    "    \"angry\" : [\"😡\", \"😠\", \"😤\", \"😣\", \"😖\"],     \n",
    "}"
   ]
  },
  {
   "cell_type": "code",
   "execution_count": 77,
   "metadata": {},
   "outputs": [],
   "source": [
    "def emoji_translate(sentence):\n",
    "    words = sentence.split()\n",
    "    return \" \".join(emoji_dict.get(word, word) for word in words)"
   ]
  },
  {
   "cell_type": "code",
   "execution_count": 78,
   "metadata": {},
   "outputs": [],
   "source": [
    "import random\n",
    "def mood_fill(sentence):\n",
    "    mood = None\n",
    "\n",
    "    # Detect Mood Request (case-insensitive check)\n",
    "    for key in mood_emojis:\n",
    "        placeholder = f\"(fill with {key} emojis)\"\n",
    "        if placeholder.lower() in sentence.lower():  # Case-insensitive check\n",
    "            mood = key\n",
    "            sentence = sentence.replace(placeholder, '')  # Remove the mood request from the sentence\n",
    "            break\n",
    "\n",
    "    #Append random emojis, if mood dtected\n",
    "    if mood:\n",
    "        sentence += \" \" + \"\".join(random.choices(mood_emojis[mood], k=3))  # Add 3 random emojis from the detected mood\n",
    "    \n",
    "    return sentence\n"
   ]
  },
  {
   "cell_type": "code",
   "execution_count": 79,
   "metadata": {},
   "outputs": [
    {
     "name": "stdout",
     "output_type": "stream",
     "text": [
      "\n",
      "🎉 Welcome to Emoji Translator 🎉\n",
      "1. Emoji Translator\n",
      "2. Mood Fill Emoji Generator\n",
      "3. Exit\n",
      "😊 Mood-Filled:  I am sleeping (fill with excited emojsi)\n",
      "\n",
      "🎉 Welcome to Emoji Translator 🎉\n",
      "1. Emoji Translator\n",
      "2. Mood Fill Emoji Generator\n",
      "3. Exit\n",
      "😊 Mood-Filled:  I am sleeping  😂😂😄\n",
      "\n",
      "🎉 Welcome to Emoji Translator 🎉\n",
      "1. Emoji Translator\n",
      "2. Mood Fill Emoji Generator\n",
      "3. Exit\n",
      "😊 Mood-Filled:  I am sleeping  🌞😊🎉\n",
      "\n",
      "🎉 Welcome to Emoji Translator 🎉\n",
      "1. Emoji Translator\n",
      "2. Mood Fill Emoji Generator\n",
      "3. Exit\n",
      "Invalid choice! Please choose a valid option (1 to 3)\n",
      "\n",
      "🎉 Welcome to Emoji Translator 🎉\n",
      "1. Emoji Translator\n",
      "2. Mood Fill Emoji Generator\n",
      "3. Exit\n",
      "😊 Mood-Filled:  I am sleeping  😔😞😔\n",
      "\n",
      "🎉 Welcome to Emoji Translator 🎉\n",
      "1. Emoji Translator\n",
      "2. Mood Fill Emoji Generator\n",
      "3. Exit\n",
      "😊 Mood-Filled:  I am sleeping  😠😣😡\n",
      "\n",
      "🎉 Welcome to Emoji Translator 🎉\n",
      "1. Emoji Translator\n",
      "2. Mood Fill Emoji Generator\n",
      "3. Exit\n",
      "Goodbye! 👋\n"
     ]
    }
   ],
   "source": [
    "while True:\n",
    "    print(\"\\n🎉 Welcome to Emoji Translator 🎉\")\n",
    "    print(\"1. Emoji Translator\")\n",
    "    print(\"2. Mood Fill Emoji Generator\")\n",
    "    print(\"3. Exit\")\n",
    "\n",
    "    choice = input(\"Choose an Option (1 to 3): \")\n",
    "    if choice == \"1\":\n",
    "        text = input(\"Enter a sentence to translate: \")\n",
    "        print(\"Translated Sentence: \", emoji_translate(text))\n",
    "    elif choice == \"2\":\n",
    "        text = input(\"Enter a sentence with mood (e.g., 'I Love Coding! (fill with Happy emojis)'): \")\n",
    "        print(\"😊 Mood-Filled: \", mood_fill(text))\n",
    "    elif choice == \"3\":\n",
    "        print(\"Goodbye! 👋\")\n",
    "        break\n",
    "    else:\n",
    "        print(\"Invalid choice! Please choose a valid option (1 to 3)\")"
   ]
  }
 ],
 "metadata": {
  "kernelspec": {
   "display_name": "Python (myenv)",
   "language": "python",
   "name": "myenv"
  },
  "language_info": {
   "codemirror_mode": {
    "name": "ipython",
    "version": 3
   },
   "file_extension": ".py",
   "mimetype": "text/x-python",
   "name": "python",
   "nbconvert_exporter": "python",
   "pygments_lexer": "ipython3",
   "version": "3.12.3"
  }
 },
 "nbformat": 4,
 "nbformat_minor": 2
}
