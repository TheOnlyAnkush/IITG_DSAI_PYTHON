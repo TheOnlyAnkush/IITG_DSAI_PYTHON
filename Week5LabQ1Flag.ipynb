{
 "cells": [
  {
   "cell_type": "code",
   "execution_count": null,
   "metadata": {},
   "outputs": [],
   "source": [
    "import os\n",
    "import csv\n",
    "import requests\n",
    "from urllib.parse import urlparse\n",
    "\n",
    "# Define the URL for the CSV file\n",
    "csv_url = \"https://raw.githubusercontent.com/prasertcbs/basic-dataset/refs/heads/master/Country_Flags.csv\"\n",
    "\n",
    "# Directory to save flag images\n",
    "flags_directory = \"flags\"\n",
    "\n",
    "# Create the flags directory if it doesn't exist\n",
    "if not os.path.exists(flags_directory):\n",
    "    os.makedirs(flags_directory)"
   ]
  },
  {
   "cell_type": "code",
   "execution_count": null,
   "metadata": {},
   "outputs": [],
   "source": [
    "# Function to download and save the CSV file\n",
    "def download_csv(url):\n",
    "    response = requests.get(url)\n",
    "    if response.status_code == 200:\n",
    "        with open('Country_Flags.csv', 'wb') as file:\n",
    "            file.write(response.content)\n",
    "        print(\"CSV downloaded successfully.\")\n",
    "    else:\n",
    "        print(f\"Failed to download CSV: {response.status_code}\")\n",
    "\n"
   ]
  },
  {
   "cell_type": "code",
   "execution_count": null,
   "metadata": {},
   "outputs": [],
   "source": [
    "# Function to download an image given its URL\n",
    "def download_image(image_url, country_name):\n",
    "    try:\n",
    "        image_response = requests.get(image_url)\n",
    "        if image_response.status_code == 200:\n",
    "            # Extract the file extension from the URL\n",
    "            parsed_url = urlparse(image_url)\n",
    "            file_extension = os.path.splitext(parsed_url.path)[1]  # Get the file extension (e.g., .svg, .png)\n",
    "\n",
    "            # Create the filename with the proper extension\n",
    "            filename = f\"{country_name}{file_extension}\"\n",
    "            image_path = os.path.join(flags_directory, filename)\n",
    "\n",
    "            # Save the image with the correct extension\n",
    "            with open(image_path, 'wb') as img_file:\n",
    "                img_file.write(image_response.content)\n",
    "                print(f\"Downloaded: {filename}\")\n",
    "        else:\n",
    "            print(f\"Failed to download image: {image_url} - {image_response.status_code}\")\n",
    "    except requests.exceptions.RequestException as e:  # Catch any requests-related exceptions\n",
    "        print(f\"Error downloading {image_url}: {e}\")\n",
    "    except Exception as e:  # Catch any other general exceptions\n",
    "        print(f\"An unexpected error occurred while downloading {image_url}: {e}\")"
   ]
  },
  {
   "cell_type": "code",
   "execution_count": null,
   "metadata": {},
   "outputs": [],
   "source": [
    "# Main workflow\n",
    "download_csv(csv_url)\n",
    "\n",
    "# Read the CSV file and process each row\n",
    "try:\n",
    "    with open('Country_Flags.csv', mode='r') as csvfile:\n",
    "        csv_reader = csv.reader(csvfile)\n",
    "        # Skip the header row\n",
    "        next(csv_reader)  \n",
    "        for row in csv_reader:\n",
    "            if len(row) >= 3:\n",
    "                country_name = row[0].strip()  # Country name in the first column\n",
    "                flag_image_url = row[2].strip()  # Image URL in the third column\n",
    "                download_image(flag_image_url, country_name)\n",
    "            else:\n",
    "                print(f\"Skipping invalid row: {row}\")\n",
    "except FileNotFoundError:\n",
    "    print(\"Error: The CSV file was not found.\")\n",
    "except Exception as e:\n",
    "    print(f\"An error occurred while processing the CSV file: {e}\")"
   ]
  }
 ],
 "metadata": {
  "kernelspec": {
   "display_name": "Python (myenv)",
   "language": "python",
   "name": "myenv"
  },
  "language_info": {
   "codemirror_mode": {
    "name": "ipython",
    "version": 3
   },
   "file_extension": ".py",
   "mimetype": "text/x-python",
   "name": "python",
   "nbconvert_exporter": "python",
   "pygments_lexer": "ipython3",
   "version": "3.12.3"
  }
 },
 "nbformat": 4,
 "nbformat_minor": 2
}
